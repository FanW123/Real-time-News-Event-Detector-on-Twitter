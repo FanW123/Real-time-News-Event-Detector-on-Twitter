{
 "cells": [
  {
   "cell_type": "code",
   "execution_count": 9,
   "metadata": {},
   "outputs": [
    {
     "name": "stdout",
     "output_type": "stream",
     "text": [
      "<class 'pandas.core.series.Series'>\n",
      "RangeIndex(start=0, stop=60, step=1)\n",
      "0               RT @LolaCracken: Love what you destroy.\n",
      "1                               Hold you close to meeee\n",
      "2                                 Tomorrow's October __\n",
      "3     RT CavsSirCC We are 1 month away Who is ready ...\n",
      "4     If you had the chance, Would you take the time...\n",
      "5     RT @tinatbh: sure relationships are cool but h...\n",
      "6                       @ConnorMcDonough omg!!!! ______\n",
      "7     RT @jakemiller: IT COMES OUT NOV 4TH ON ITUNES...\n",
      "8     RT @TipsForYouDaily: Party idea http://t.co/mA...\n",
      "9            Check Out This !!!! http://t.co/N4RFjehiAb\n",
      "10                            Finna go to my last class\n",
      "11    RT @WeLoveRobDyrdek: \"CAUGHT A MOUSE ABOUT A W...\n",
      "12    You want them to actually miss you. You want t...\n",
      "13    RT @BeersBeetsGames: So close to 100 subs. We ...\n",
      "14    RT @jakemiller: I AM SO EXCITED TO ANNOUNCE TH...\n",
      "15    RT @ChiefAMoney: @MeyersFrankie http://t.co/Ma...\n",
      "16    I think I actually have emotional feelings for...\n",
      "17    just tryna chill &amp; make moves over break. ...\n",
      "18    RT @jakemiller: I AM SO EXCITED TO ANNOUNCE TH...\n",
      "19    RT @psychologicaI: You just have to do your ow...\n",
      "20    RT @Thesarafloyd: @millermonster97 @ib_ohs hyp...\n",
      "21    RT @NA5SOSUPDATES: Michael need to stop gettin...\n",
      "22    life's too short to drink crappy coffee and cr...\n",
      "23    When the weather decides to be sunny while it ...\n",
      "24    RT @OprahSideNigga: IF A NIGGA PUT A GUN TO MY...\n",
      "25       RT @initiaI: nothing kills you like your mind.\n",
      "26    RT @ItsJSee: \"@Beautybyseiko: Ð@Fajigetsherwet...\n",
      "27                                               Coolin\n",
      "28                @_AlexandraLayne okay fine I'll come.\n",
      "29    I would love to win the iPad Air because I wou...\n",
      "30    come talk to me when you get excluded from you...\n",
      "31        Baby let's start it over we can be friends __\n",
      "32    Is it just me or are mlb players the coolest p...\n",
      "33    @devfaithh omgg I hope not that thing looked d...\n",
      "34    RT @barcastuff: Picture: Beyonce, Jay-Z and Be...\n",
      "35              @juliedemdam :) Thanks for watching it!\n",
      "36    RT @jakemiller: I AM SO EXCITED TO ANNOUNCE TH...\n",
      "37    RT @mariangelidlcz: We only obsess over relati...\n",
      "38    The BUS Mass meeting is TOMORROW! http://t.co/...\n",
      "39    RT @SkidWillie: Hillary Clinton's History: Mus...\n",
      "40    These past few weeks I've actually been genuin...\n",
      "41    ISIS leadership involved in Istanbul attack pl...\n",
      "42    Anti-Goyites conflate all whites with Nazis ht...\n",
      "43    RT @_Snape_: 19 years ago today, I killed Dumb...\n",
      "44    RT @Snowden: Wow. This explicitly authorizes @...\n",
      "45    RT @JordanChariton: Still kind of shocking whe...\n",
      "46    RT @GovGaryJohnson: It doesn't surprise me. #T...\n",
      "47    RT @J14Magazine: Shawn Mendes just did somethi...\n",
      "48    RT @sierraskycin: No filter needed holllllllll...\n",
      "49    Oracle ordered to pay HP $3 billion in Itanium...\n",
      "50    Mets finally making good contact, but can't ge...\n",
      "51    RT @thehill: WATCH: Trump points out \"Mexican ...\n",
      "52    WATCH _ Newt Gingrich Issues THIS Urgent Warni...\n",
      "53    RT @TheWrap: 'Wreck-It Ralph' Sequel Slated fo...\n",
      "54    RT @TheFanciestGay: \"Caitlyn Jenner endorses T...\n",
      "55    RT @PTIofficial: Rs. 50 million released to 15...\n",
      "56    RT @bro_mamacita: The pictures from the fire i...\n",
      "57    RT @glaad: New Hampshire Governor issues execu...\n",
      "58    dude, you're going 20, that's the speed limit....\n",
      "59    save the children women innocent men and envir...\n",
      "Name: 3, dtype: object\n"
     ]
    },
    {
     "name": "stderr",
     "output_type": "stream",
     "text": [
      "/Users/susanhee/anaconda/envs/py2/lib/python2.7/site-packages/ipykernel_launcher.py:23: SettingWithCopyWarning: \n",
      "A value is trying to be set on a copy of a slice from a DataFrame\n",
      "\n",
      "See the caveats in the documentation: http://pandas.pydata.org/pandas-docs/stable/indexing.html#indexing-view-versus-copy\n"
     ]
    }
   ],
   "source": [
    "import pandas\n",
    "import sklearn, sklearn.feature_extraction, sklearn.svm\n",
    "import re\n",
    "import csv\n",
    "\n",
    "def processRow(row):\n",
    "    tweet = row[3]\n",
    "    # Lower case\n",
    "    tweet.lower()\n",
    "    # Remove additional white spaces             \n",
    "    tweet = re.sub('[\\s]+', ' ', tweet)\n",
    "    tweet = re.sub('[\\n]+', ' ', tweet)\n",
    "    # Remove not alphanumeric symbols white spaces\n",
    "    tweet = re.sub(r'[^\\w]', ' ', tweet)\n",
    "    # Replace #word with word\n",
    "    tweet = re.sub(r'#([^\\s]+)', r'\\1', tweet)\n",
    "    # Remove :( or :)\n",
    "    tweet = tweet.replace(':)', '')\n",
    "    tweet = tweet.replace(':(', '')\n",
    "    # trim\n",
    "    tweet = tweet.strip('\\'\"')\n",
    "\n",
    "    row[3] = tweet\n",
    "\n",
    "    return row\n",
    "\n",
    "\n",
    "# with open(file_, \"rb\") as csvfile:\n",
    "#     filereader = csv.reader(csvfile)\n",
    "#     for row in filereader:\n",
    "#         new_row = processRow(row)\n",
    "\n",
    "\n",
    "#headers = [\"tweetID\", \"userHandler\", \"tweetUrl\", \"tweetText\", \"is_spam (annotator 1)\"]\n",
    "\n",
    "df = pandas.read_csv(\"dataset/spam_test.csv\", header=-1, skiprows=1)\n",
    "#.head()[1:]\n",
    "print type(df[3])\n",
    "print df[3].index\n",
    "\n",
    "for row in df[3].index:\n",
    "    processRow(df[3])\n",
    "\n",
    "print df[3]\n",
    "\n",
    "# # convert tweets to the TF-IDF representation\n",
    "# df_transformer = sklearn.feature_extraction.text.TfidfVectorizer()\n",
    "# #print tweets_transformer \n",
    "# X = df_transformer.fit_transform(df[3])\n",
    "# ?tweets_transformer.fit_transform\n",
    "# print X\n",
    "# y = df[4]\n",
    "# print y"
   ]
  },
  {
   "cell_type": "code",
   "execution_count": 8,
   "metadata": {},
   "outputs": [
    {
     "name": "stdout",
     "output_type": "stream",
     "text": [
      "0.784149184149\n"
     ]
    }
   ],
   "source": [
    "y = df[4]\n",
    "\n",
    "# perform some training using an SVM\n",
    "# and then output the accuracy of the predictions in conjunction with 5-fold cross validation\n",
    "learner = sklearn.svm.LinearSVC()\n",
    "scores = sklearn.model_selection.cross_val_score(learner, X, y, cv=5, scoring=\"accuracy\")\n",
    "print(scores.mean())"
   ]
  },
  {
   "cell_type": "code",
   "execution_count": 7,
   "metadata": {
    "collapsed": true
   },
   "outputs": [],
   "source": [
    "?sklearn.feature_extraction.text.TfidfVectorizer().fit_transform"
   ]
  },
  {
   "cell_type": "code",
   "execution_count": null,
   "metadata": {
    "collapsed": true
   },
   "outputs": [],
   "source": []
  }
 ],
 "metadata": {
  "kernelspec": {
   "display_name": "Python 2",
   "language": "python",
   "name": "python2"
  },
  "language_info": {
   "codemirror_mode": {
    "name": "ipython",
    "version": 2
   },
   "file_extension": ".py",
   "mimetype": "text/x-python",
   "name": "python",
   "nbconvert_exporter": "python",
   "pygments_lexer": "ipython2",
   "version": "2.7.13"
  }
 },
 "nbformat": 4,
 "nbformat_minor": 2
}
